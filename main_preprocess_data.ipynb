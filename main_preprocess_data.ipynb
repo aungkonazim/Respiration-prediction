{
 "cells": [
  {
   "cell_type": "code",
   "execution_count": 1,
   "metadata": {},
   "outputs": [],
   "source": [
    "import os\n",
    "import numpy as np\n",
    "import pandas as pd\n",
    "import pickle\n",
    "directory = './data/'"
   ]
  },
  {
   "cell_type": "code",
   "execution_count": 2,
   "metadata": {},
   "outputs": [],
   "source": [
    "df = []\n",
    "for f in os.listdir(directory):\n",
    "    if f[-1]!='p':\n",
    "        continue\n",
    "    df.append(pickle.load(open(directory+f,'rb')))\n",
    "df = pd.concat(df).reset_index(drop=True)"
   ]
  },
  {
   "cell_type": "code",
   "execution_count": 8,
   "metadata": {
    "scrolled": false
   },
   "outputs": [],
   "source": [
    "# df.columns\n",
    "%matplotlib notebook\n",
    "from scipy import signal\n",
    "from scipy.interpolate import interp1d\n",
    "import matplotlib.pyplot as plt\n",
    "def interpolate_window(window):\n",
    "    window = window[window[:,0].argsort()]\n",
    "    ts = np.linspace(window[0,0],window[-1,0],200)\n",
    "    f = interp1d(window[:,0],window[:,1:],axis=0,fill_value='extrapolate',kind='linear')\n",
    "    window_interpolate = f(ts)\n",
    "    window_final = np.concatenate([ts.reshape(-1,1),window_interpolate],axis=1)\n",
    "    return window_final\n",
    "\n",
    "def parse_windows(window):\n",
    "    window = np.array([np.array(a) for a in window])\n",
    "    window = window[window[:,0].argsort()]\n",
    "    return interpolate_window(window)\n",
    "\n",
    "def preProcessing(X1,Fs=25,fil_type='ppg'):\n",
    "    X1 = signal.detrend(X1,axis=0,type='constant')\n",
    "    b = signal.firls(65,np.array([0,0.2, 0.3, 3 ,3.5,Fs/2]),np.array([0, 0 ,1 ,1 ,0, 0]),\n",
    "                     np.array([100*0.02,0.02,0.02]),fs=Fs)\n",
    "    X2 = np.zeros((np.shape(X1)[0],X1.shape[1]))\n",
    "    for i in range(X2.shape[1]):\n",
    "        X2[:,i] = signal.convolve(X1[:,i],b,mode='same')\n",
    "    return X2\n",
    "\n",
    "output_columns = ['respiration','inspiration','expiration','stretch','ieratio']\n",
    "input_columns = ['input_left','input_right']\n",
    "X = []\n",
    "y = []\n",
    "groups = []\n",
    "indicator = []\n",
    "for i,row in df.iterrows():\n",
    "    for h,c in enumerate(input_columns):\n",
    "        window = parse_windows(row[c])\n",
    "        window[:,1:4] = preProcessing(window[:,1:4])\n",
    "        X.append(window[:,1:].reshape(1,200,9))\n",
    "        y.append(np.array([row[oc] for oc in output_columns]))\n",
    "        groups.append(row['user'])\n",
    "        indicator.append(h) # 0 means left wrist\n",
    "X = np.concatenate(X)\n",
    "y = np.array(y)\n",
    "groups = np.array(groups)\n",
    "indicator = np.array(indicator)\n",
    "\n",
    "#     plt.figure()\n",
    "#     plt.plot(window[:,0]-window[0,0],window[:,1:4])\n",
    "#     plt.show()\n",
    "#     f, t, Zxx = signal.spectrogram(window[:,3], 25,nperseg=50,nfft=20000,noverlap=25,axis=0)\n",
    "#     print(Zxx.shape)\n",
    "#     plt.figure()\n",
    "#     plt.pcolormesh(t, f, np.abs(Zxx), vmin=0, vmax=np.max(np.abs(Zxx)))\n",
    "#     plt.title('STFT Magnitude')\n",
    "#     plt.ylabel('Frequency [Hz]')\n",
    "#     plt.xlabel('Time [sec]')\n",
    "#     plt.show()"
   ]
  },
  {
   "cell_type": "code",
   "execution_count": 12,
   "metadata": {},
   "outputs": [],
   "source": [
    "import pickle\n",
    "pickle.dump([X,y,groups,indicator],open('./processed_data/2user_time_domain.p','wb'))"
   ]
  },
  {
   "cell_type": "code",
   "execution_count": null,
   "metadata": {},
   "outputs": [],
   "source": []
  }
 ],
 "metadata": {
  "kernelspec": {
   "display_name": "Python 3",
   "language": "python",
   "name": "python3"
  },
  "language_info": {
   "codemirror_mode": {
    "name": "ipython",
    "version": 3
   },
   "file_extension": ".py",
   "mimetype": "text/x-python",
   "name": "python",
   "nbconvert_exporter": "python",
   "pygments_lexer": "ipython3",
   "version": "3.6.8"
  }
 },
 "nbformat": 4,
 "nbformat_minor": 2
}
